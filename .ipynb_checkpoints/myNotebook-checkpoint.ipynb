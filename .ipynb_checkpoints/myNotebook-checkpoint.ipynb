{
 "cells": [
  {
   "cell_type": "code",
   "execution_count": 2,
   "metadata": {},
   "outputs": [
    {
     "name": "stdout",
     "output_type": "stream",
     "text": [
      "処理終了\n"
     ]
    }
   ],
   "source": [
    "# ライブラリ\n",
    "import requests\n",
    "import pandas as pd\n",
    "import csv\n",
    "import datetime\n",
    "\n",
    "# アプリケーションID => サイト登録後に発行\n",
    "APP_ID = '発行済のアプリケーションIDを記述'\n",
    "\n",
    "# WEB-APIサイトのURL => APIのURLから抜粋\n",
    "API_URL = 'https://api.e-stat.go.jp/rest/3.0/app/getSimpleStatsData'\n",
    "\n",
    "# 統計ID => APIのURLから抜粋\n",
    "STAT_ID = '0003348241'\n",
    "\n",
    "# カテゴリID => APIのURLから抜粋\n",
    "CATEGORY = '010110001'\n",
    "\n",
    "# APIリクエスト用パラメータ(辞書)\n",
    "PARAMS = { \"appId\": APP_ID, \"statsDataId\": STAT_ID, \"cdCat01\": CATEGORY, \"sectionHeaderFlg\": 2, \"explanationGetFlg\": \"N\", \"metaGetFlg\": \"N\", \"annotationGetFlg\": \"N\"}\n",
    "\n",
    "# APIリクエスト\n",
    "response = requests.get(API_URL, params=PARAMS, stream=True)\n",
    "\n",
    "# CSVファイル\n",
    "csv_date = datetime.datetime.today().strftime('%Y%m%d%H')\n",
    "csv_file = 'estat_' + csv_date + '.csv'\n",
    "\n",
    "# CSVファイルにデータ保存\n",
    "with open(csv_file, 'w', errors='ignore') as file:\n",
    "    file.write(response.text)\n",
    "\n",
    "# プログラム終了\n",
    "print('処理終了')"
   ]
  },
  {
   "cell_type": "code",
   "execution_count": null,
   "metadata": {},
   "outputs": [],
   "source": []
  }
 ],
 "metadata": {
  "kernelspec": {
   "display_name": "Python 3",
   "language": "python",
   "name": "python3"
  },
  "language_info": {
   "codemirror_mode": {
    "name": "ipython",
    "version": 3
   },
   "file_extension": ".py",
   "mimetype": "text/x-python",
   "name": "python",
   "nbconvert_exporter": "python",
   "pygments_lexer": "ipython3",
   "version": "3.8.3"
  }
 },
 "nbformat": 4,
 "nbformat_minor": 4
}
